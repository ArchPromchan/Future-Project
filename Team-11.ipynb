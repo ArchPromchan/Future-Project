{
 "cells": [
  {
   "cell_type": "markdown",
   "metadata": {},
   "source": [
    "## Project topics: Tic-Tac-Toe\n",
    "# Team-11   \n",
    "### Arch Promchan \n",
    "### Hailin liu \n",
    "### Madusha Dissanayaka \n",
    "### Puripan Leelapong-Anan\n",
    "###    10/03/2023"
   ]
  },
  {
   "cell_type": "markdown",
   "metadata": {},
   "source": [
    "### The game:\n",
    "### It is a two-player game and consists of a nine-square grid. Each player chooses their move and with O or X and marks their square one at each chance. The player who succeeds in making their marks all in one line whether diagonally, horizontally, or vertically wins. The challenge for the other player is to block the game for their opponent and also to make their chain. \n",
    "### Function:\n",
    "### This program allows players to mark a 3x3 grid with numbers 1-9. The game can be won or result in a tie. Players can enter \"h\" to undo their last move."
   ]
  },
  {
   "cell_type": "markdown",
   "metadata": {},
   "source": [
    "Step1: Create a new Jupyter Notebook.\n",
    "In the first code cell, define a function named \"print_board\" which will print out the current game board."
   ]
  },
  {
   "cell_type": "code",
   "execution_count": 1,
   "metadata": {},
   "outputs": [],
   "source": [
    "def print_board(board):\n",
    "    print(\" \" + board[0] + \" | \" + board[1] + \" | \" + board[2])\n",
    "    print(\"---|---|---\")\n",
    "    print(\" \" + board[3] + \" | \" + board[4] + \" | \" + board[5])\n",
    "    print(\"---|---|---\")\n",
    "    print(\" \" + board[6] + \" | \" + board[7] + \" | \" + board[8])\n"
   ]
  },
  {
   "cell_type": "markdown",
   "metadata": {},
   "source": [
    "Step2: Define a function named \"check_win\" in the second code cell, which will check for a winner after each turn and return the winner."
   ]
  },
  {
   "cell_type": "code",
   "execution_count": 2,
   "metadata": {},
   "outputs": [],
   "source": [
    "def check_win(board):\n",
    "    # Check rows\n",
    "    for i in range(0, 9, 3):\n",
    "        if board[i] == board[i+1] == board[i+2] != \" \":\n",
    "            return board[i]\n",
    "\n",
    "    # Check columns\n",
    "    for i in range(3):\n",
    "        if board[i] == board[i+3] == board[i+6] != \" \":\n",
    "            return board[i]\n",
    "\n",
    "    # Check diagonals\n",
    "    if board[0] == board[4] == board[8] != \" \":\n",
    "        return board[0]\n",
    "    if board[2] == board[4] == board[6] != \" \":\n",
    "        return board[2]\n",
    "\n",
    "    return None\n"
   ]
  },
  {
   "cell_type": "markdown",
   "metadata": {},
   "source": [
    "Step3: Define a function named \"play_game\" in the third code cell, which will control the entire game flow, including checking player input, updating the game board, and determining if there is a win or draw. Additionally, this function should have a undo function, which allows players to undo their last move."
   ]
  },
  {
   "cell_type": "code",
   "execution_count": 3,
   "metadata": {},
   "outputs": [],
   "source": [
    "def play_game(): \n",
    "    # Initialize the game\n",
    "    board = [\" \"] * 9\n",
    "    current_player = \"X\"\n",
    "    winner = None\n",
    "    game_over = False\n",
    "    move_history = [] # Record the moves made by players\n",
    "    \n",
    "    # Game loop\n",
    "    while not game_over:\n",
    "        # Display the game board\n",
    "        print_board(board)\n",
    "        \n",
    "        # Prompt the player for their move\n",
    "        print(f\"Current player: {current_player}\")\n",
    "        move = input(\"Please select an empty square to place your mark (1-9), or enter 'h' to undo your last move: \")\n",
    "        \n",
    "        # Handle undo request\n",
    "        if move == \"h\":\n",
    "            if move_history:\n",
    "                last_move = move_history.pop()\n",
    "                board[last_move] = \" \"\n",
    "                current_player = \"O\" if current_player == \"X\" else \"X\"\n",
    "                print(\"Player has undone their last move.\")\n",
    "                continue\n",
    "            else:\n",
    "                print(\"Cannot undo move, no moves made yet.\")\n",
    "                        \n",
    "        # Handle player input\n",
    "        if move.isdigit():\n",
    "            move = int(move) - 1\n",
    "            if board[move] == \" \":\n",
    "                board[move] = current_player\n",
    "                move_history.append(move)\n",
    "                winner = check_win(board)\n",
    "                if winner:\n",
    "                    game_over = True\n",
    "                elif \" \" not in board:\n",
    "                    game_over = True\n",
    "                    winner = \"Tie\"\n",
    "                else:\n",
    "                    current_player = \"O\" if current_player == \"X\" else \"X\"\n",
    "            else:\n",
    "                print(\"That square is already occupied, please choose another one.\")\n",
    "        else:\n",
    "            print(\"Invalid input, please try again.\")\n",
    "            \n",
    "    # Display the final game result\n",
    "    print_board(board)\n",
    "    if winner == \"Tie\":\n",
    "        print(\"Game over, tie.\")\n",
    "    else:\n",
    "        print(f\"Game over, {winner} wins.\")\n"
   ]
  },
  {
   "cell_type": "markdown",
   "metadata": {},
   "source": [
    "Step4: In the next code cell, call the function play_game to start the game."
   ]
  },
  {
   "cell_type": "code",
   "execution_count": 4,
   "metadata": {},
   "outputs": [
    {
     "name": "stdout",
     "output_type": "stream",
     "text": [
      "   |   |  \n",
      "---|---|---\n",
      "   |   |  \n",
      "---|---|---\n",
      "   |   |  \n",
      "Current player: X\n",
      "Please select an empty square to place your mark (1-9), or enter 'h' to undo your last move: 1\n",
      " X |   |  \n",
      "---|---|---\n",
      "   |   |  \n",
      "---|---|---\n",
      "   |   |  \n",
      "Current player: O\n",
      "Please select an empty square to place your mark (1-9), or enter 'h' to undo your last move: 2\n",
      " X | O |  \n",
      "---|---|---\n",
      "   |   |  \n",
      "---|---|---\n",
      "   |   |  \n",
      "Current player: X\n",
      "Please select an empty square to place your mark (1-9), or enter 'h' to undo your last move: 3\n",
      " X | O | X\n",
      "---|---|---\n",
      "   |   |  \n",
      "---|---|---\n",
      "   |   |  \n",
      "Current player: O\n",
      "Please select an empty square to place your mark (1-9), or enter 'h' to undo your last move: 5\n",
      " X | O | X\n",
      "---|---|---\n",
      "   | O |  \n",
      "---|---|---\n",
      "   |   |  \n",
      "Current player: X\n",
      "Please select an empty square to place your mark (1-9), or enter 'h' to undo your last move: 6\n",
      " X | O | X\n",
      "---|---|---\n",
      "   | O | X\n",
      "---|---|---\n",
      "   |   |  \n",
      "Current player: O\n",
      "Please select an empty square to place your mark (1-9), or enter 'h' to undo your last move: 4\n",
      " X | O | X\n",
      "---|---|---\n",
      " O | O | X\n",
      "---|---|---\n",
      "   |   |  \n",
      "Current player: X\n",
      "Please select an empty square to place your mark (1-9), or enter 'h' to undo your last move: 8\n",
      " X | O | X\n",
      "---|---|---\n",
      " O | O | X\n",
      "---|---|---\n",
      "   | X |  \n",
      "Current player: O\n",
      "Please select an empty square to place your mark (1-9), or enter 'h' to undo your last move: 9\n",
      " X | O | X\n",
      "---|---|---\n",
      " O | O | X\n",
      "---|---|---\n",
      "   | X | O\n",
      "Current player: X\n",
      "Please select an empty square to place your mark (1-9), or enter 'h' to undo your last move: 7\n",
      " X | O | X\n",
      "---|---|---\n",
      " O | O | X\n",
      "---|---|---\n",
      " X | X | O\n",
      "Game over, tie.\n"
     ]
    }
   ],
   "source": [
    "play_game()"
   ]
  }
 ],
 "metadata": {
  "kernelspec": {
   "display_name": "Python 3 (ipykernel)",
   "language": "python",
   "name": "python3"
  },
  "language_info": {
   "codemirror_mode": {
    "name": "ipython",
    "version": 3
   },
   "file_extension": ".py",
   "mimetype": "text/x-python",
   "name": "python",
   "nbconvert_exporter": "python",
   "pygments_lexer": "ipython3",
   "version": "3.9.13"
  }
 },
 "nbformat": 4,
 "nbformat_minor": 2
}
